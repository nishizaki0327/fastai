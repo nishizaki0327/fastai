{
  "nbformat": 4,
  "nbformat_minor": 0,
  "metadata": {
    "colab": {
      "name": "Lesson4-nlp.ipynb",
      "version": "0.3.2",
      "provenance": [],
      "collapsed_sections": [],
      "include_colab_link": true
    },
    "kernelspec": {
      "name": "python3",
      "display_name": "Python 3"
    },
    "accelerator": "GPU"
  },
  "cells": [
    {
      "cell_type": "markdown",
      "metadata": {
        "id": "view-in-github",
        "colab_type": "text"
      },
      "source": [
        "<a href=\"https://colab.research.google.com/github/nshzk8975/fastai/blob/master/Lesson4_nlp.ipynb\" target=\"_parent\"><img src=\"https://colab.research.google.com/assets/colab-badge.svg\" alt=\"Open In Colab\"/></a>"
      ]
    },
    {
      "cell_type": "markdown",
      "metadata": {
        "id": "ZSS5jB_rP5tK",
        "colab_type": "text"
      },
      "source": [
        "# **NLP**"
      ]
    },
    {
      "cell_type": "code",
      "metadata": {
        "id": "Z2JtoG5SP2M5",
        "colab_type": "code",
        "colab": {}
      },
      "source": [
        "%reload_ext autoreload\n",
        "%autoreload 2\n",
        "%matplotlib inline"
      ],
      "execution_count": 0,
      "outputs": []
    },
    {
      "cell_type": "code",
      "metadata": {
        "id": "oA57DcGqP8nr",
        "colab_type": "code",
        "colab": {}
      },
      "source": [
        "from fastai import *\n",
        "from fastai.text import *"
      ],
      "execution_count": 0,
      "outputs": []
    },
    {
      "cell_type": "code",
      "metadata": {
        "id": "KggI264HQmSU",
        "colab_type": "code",
        "outputId": "c286ef57-55ff-4d31-abfc-38d723db54ef",
        "colab": {
          "base_uri": "https://localhost:8080/",
          "height": 68
        }
      },
      "source": [
        "path = untar_data(URLs.IMDB_SAMPLE)\n",
        "path.ls()"
      ],
      "execution_count": 95,
      "outputs": [
        {
          "output_type": "execute_result",
          "data": {
            "text/plain": [
              "[PosixPath('/root/.fastai/data/imdb_sample/data_save.pkl'),\n",
              " PosixPath('/root/.fastai/data/imdb_sample/texts.csv'),\n",
              " PosixPath('/root/.fastai/data/imdb_sample/data_lm')]"
            ]
          },
          "metadata": {
            "tags": []
          },
          "execution_count": 95
        }
      ]
    },
    {
      "cell_type": "code",
      "metadata": {
        "id": "_-Bu39A1SKxk",
        "colab_type": "code",
        "outputId": "eefe4e0c-fa35-4a67-eb57-e46ff3c8f62e",
        "colab": {
          "base_uri": "https://localhost:8080/",
          "height": 204
        }
      },
      "source": [
        "df = pd.read_csv(path/'texts.csv')\n",
        "df.head()"
      ],
      "execution_count": 96,
      "outputs": [
        {
          "output_type": "execute_result",
          "data": {
            "text/html": [
              "<div>\n",
              "<style scoped>\n",
              "    .dataframe tbody tr th:only-of-type {\n",
              "        vertical-align: middle;\n",
              "    }\n",
              "\n",
              "    .dataframe tbody tr th {\n",
              "        vertical-align: top;\n",
              "    }\n",
              "\n",
              "    .dataframe thead th {\n",
              "        text-align: right;\n",
              "    }\n",
              "</style>\n",
              "<table border=\"1\" class=\"dataframe\">\n",
              "  <thead>\n",
              "    <tr style=\"text-align: right;\">\n",
              "      <th></th>\n",
              "      <th>label</th>\n",
              "      <th>text</th>\n",
              "      <th>is_valid</th>\n",
              "    </tr>\n",
              "  </thead>\n",
              "  <tbody>\n",
              "    <tr>\n",
              "      <th>0</th>\n",
              "      <td>negative</td>\n",
              "      <td>Un-bleeping-believable! Meg Ryan doesn't even ...</td>\n",
              "      <td>False</td>\n",
              "    </tr>\n",
              "    <tr>\n",
              "      <th>1</th>\n",
              "      <td>positive</td>\n",
              "      <td>This is a extremely well-made film. The acting...</td>\n",
              "      <td>False</td>\n",
              "    </tr>\n",
              "    <tr>\n",
              "      <th>2</th>\n",
              "      <td>negative</td>\n",
              "      <td>Every once in a long while a movie will come a...</td>\n",
              "      <td>False</td>\n",
              "    </tr>\n",
              "    <tr>\n",
              "      <th>3</th>\n",
              "      <td>positive</td>\n",
              "      <td>Name just says it all. I watched this movie wi...</td>\n",
              "      <td>False</td>\n",
              "    </tr>\n",
              "    <tr>\n",
              "      <th>4</th>\n",
              "      <td>negative</td>\n",
              "      <td>This movie succeeds at being one of the most u...</td>\n",
              "      <td>False</td>\n",
              "    </tr>\n",
              "  </tbody>\n",
              "</table>\n",
              "</div>"
            ],
            "text/plain": [
              "      label                                               text  is_valid\n",
              "0  negative  Un-bleeping-believable! Meg Ryan doesn't even ...     False\n",
              "1  positive  This is a extremely well-made film. The acting...     False\n",
              "2  negative  Every once in a long while a movie will come a...     False\n",
              "3  positive  Name just says it all. I watched this movie wi...     False\n",
              "4  negative  This movie succeeds at being one of the most u...     False"
            ]
          },
          "metadata": {
            "tags": []
          },
          "execution_count": 96
        }
      ]
    },
    {
      "cell_type": "code",
      "metadata": {
        "id": "bSYD-t4PSTUI",
        "colab_type": "code",
        "outputId": "23cd5797-a6e7-4fc0-a591-4f743e6d7725",
        "colab": {
          "base_uri": "https://localhost:8080/",
          "height": 74
        }
      },
      "source": [
        "df['text'][1]"
      ],
      "execution_count": 97,
      "outputs": [
        {
          "output_type": "execute_result",
          "data": {
            "text/plain": [
              "'This is a extremely well-made film. The acting, script and camera-work are all first-rate. The music is good, too, though it is mostly early in the film, when things are still relatively cheery. There are no really superstars in the cast, though several faces will be familiar. The entire cast does an excellent job with the script.<br /><br />But it is hard to watch, because there is no good end to a situation like the one presented. It is now fashionable to blame the British for setting Hindus and Muslims against each other, and then cruelly separating them into two countries. There is some merit in this view, but it\\'s also true that no one forced Hindus and Muslims in the region to mistreat each other as they did around the time of partition. It seems more likely that the British simply saw the tensions between the religions and were clever enough to exploit them to their own ends.<br /><br />The result is that there is much cruelty and inhumanity in the situation and this is very unpleasant to remember and to see on the screen. But it is never painted as a black-and-white case. There is baseness and nobility on both sides, and also the hope for change in the younger generation.<br /><br />There is redemption of a sort, in the end, when Puro has to make a hard choice between a man who has ruined her life, but also truly loved her, and her family which has disowned her, then later come looking for her. But by that point, she has no option that is without great pain for her.<br /><br />This film carries the message that both Muslims and Hindus have their grave faults, and also that both can be dignified and caring people. The reality of partition makes that realisation all the more wrenching, since there can never be real reconciliation across the India/Pakistan border. In that sense, it is similar to \"Mr & Mrs Iyer\".<br /><br />In the end, we were glad to have seen the film, even though the resolution was heartbreaking. If the UK and US could deal with their own histories of racism with this kind of frankness, they would certainly be better off.'"
            ]
          },
          "metadata": {
            "tags": []
          },
          "execution_count": 97
        }
      ]
    },
    {
      "cell_type": "code",
      "metadata": {
        "id": "Tu1_cI4uSX86",
        "colab_type": "code",
        "colab": {}
      },
      "source": [
        "data_lm = TextDataBunch.from_csv(path, 'texts.csv')"
      ],
      "execution_count": 0,
      "outputs": []
    },
    {
      "cell_type": "code",
      "metadata": {
        "id": "WWsOilI0TK5c",
        "colab_type": "code",
        "outputId": "bb05bb91-d59b-46b5-c063-44323408d884",
        "colab": {
          "base_uri": "https://localhost:8080/",
          "height": 289
        }
      },
      "source": [
        "data_lm.show_batch()"
      ],
      "execution_count": 99,
      "outputs": [
        {
          "output_type": "display_data",
          "data": {
            "text/html": [
              "<table border=\"1\" class=\"dataframe\">\n",
              "  <thead>\n",
              "    <tr style=\"text-align: right;\">\n",
              "      <th>text</th>\n",
              "      <th>target</th>\n",
              "    </tr>\n",
              "  </thead>\n",
              "  <tbody>\n",
              "    <tr>\n",
              "      <td>xxbos xxmaj raising xxmaj victor xxmaj vargas : a xxmaj review \\n \\n  xxmaj you know , xxmaj raising xxmaj victor xxmaj vargas is like sticking your hands into a big , steaming bowl of xxunk . xxmaj it 's warm and gooey , but you 're not sure if it feels right . xxmaj try as i might , no matter how warm and gooey xxmaj raising xxmaj</td>\n",
              "      <td>negative</td>\n",
              "    </tr>\n",
              "    <tr>\n",
              "      <td>xxbos xxup the xxup shop xxup around xxup the xxup corner is one of the sweetest and most feel - good romantic comedies ever made . xxmaj there 's just no getting around that , and it 's hard to actually put one 's feeling for this film into words . xxmaj it 's not one of those films that tries too hard , nor does it come up with</td>\n",
              "      <td>positive</td>\n",
              "    </tr>\n",
              "    <tr>\n",
              "      <td>xxbos xxmaj now that xxmaj che(2008 ) has finished its relatively short xxmaj australian cinema run ( extremely limited xxunk screen in xxmaj sydney , after xxunk ) , i can xxunk join both xxunk of \" xxmaj at xxmaj the xxmaj movies \" in taking xxmaj steven xxmaj soderbergh to task . \\n \\n  xxmaj it 's usually satisfying to watch a film director change his style /</td>\n",
              "      <td>negative</td>\n",
              "    </tr>\n",
              "    <tr>\n",
              "      <td>xxbos xxmaj this film sat on my xxmaj xxunk for weeks before i watched it . i dreaded a self - indulgent xxunk flick about relationships gone bad . i was wrong ; this was an xxunk xxunk into the screwed - up xxunk of xxmaj new xxmaj yorkers . \\n \\n  xxmaj the format is the same as xxmaj max xxmaj xxunk ' \" xxmaj la xxmaj ronde</td>\n",
              "      <td>positive</td>\n",
              "    </tr>\n",
              "    <tr>\n",
              "      <td>xxbos xxmaj many neglect that this is n't just a classic due to the fact that it 's the first xxup 3d game , or even the first xxunk - up . xxmaj it 's also one of the first stealth games , one of the xxunk definitely the first ) truly claustrophobic games , and just a pretty well - rounded gaming experience in general . xxmaj with graphics</td>\n",
              "      <td>positive</td>\n",
              "    </tr>\n",
              "  </tbody>\n",
              "</table>"
            ],
            "text/plain": [
              "<IPython.core.display.HTML object>"
            ]
          },
          "metadata": {
            "tags": []
          }
        }
      ]
    },
    {
      "cell_type": "code",
      "metadata": {
        "id": "BWI7yYKfTO3r",
        "colab_type": "code",
        "colab": {}
      },
      "source": [
        "data_lm.save(\"data_lm\")"
      ],
      "execution_count": 0,
      "outputs": []
    },
    {
      "cell_type": "code",
      "metadata": {
        "id": "WvxflgtnVfR-",
        "colab_type": "code",
        "outputId": "a5db3b86-9cb0-4f61-c260-4a86e57f7d5f",
        "colab": {
          "base_uri": "https://localhost:8080/",
          "height": 289
        }
      },
      "source": [
        "data = load_data(path, 'data_lm')\n",
        "data.show_batch()"
      ],
      "execution_count": 101,
      "outputs": [
        {
          "output_type": "display_data",
          "data": {
            "text/html": [
              "<table border=\"1\" class=\"dataframe\">\n",
              "  <thead>\n",
              "    <tr style=\"text-align: right;\">\n",
              "      <th>text</th>\n",
              "      <th>target</th>\n",
              "    </tr>\n",
              "  </thead>\n",
              "  <tbody>\n",
              "    <tr>\n",
              "      <td>xxbos xxmaj raising xxmaj victor xxmaj vargas : a xxmaj review \\n \\n  xxmaj you know , xxmaj raising xxmaj victor xxmaj vargas is like sticking your hands into a big , steaming bowl of xxunk . xxmaj it 's warm and gooey , but you 're not sure if it feels right . xxmaj try as i might , no matter how warm and gooey xxmaj raising xxmaj</td>\n",
              "      <td>negative</td>\n",
              "    </tr>\n",
              "    <tr>\n",
              "      <td>xxbos xxup the xxup shop xxup around xxup the xxup corner is one of the sweetest and most feel - good romantic comedies ever made . xxmaj there 's just no getting around that , and it 's hard to actually put one 's feeling for this film into words . xxmaj it 's not one of those films that tries too hard , nor does it come up with</td>\n",
              "      <td>positive</td>\n",
              "    </tr>\n",
              "    <tr>\n",
              "      <td>xxbos xxmaj now that xxmaj che(2008 ) has finished its relatively short xxmaj australian cinema run ( extremely limited xxunk screen in xxmaj sydney , after xxunk ) , i can xxunk join both xxunk of \" xxmaj at xxmaj the xxmaj movies \" in taking xxmaj steven xxmaj soderbergh to task . \\n \\n  xxmaj it 's usually satisfying to watch a film director change his style /</td>\n",
              "      <td>negative</td>\n",
              "    </tr>\n",
              "    <tr>\n",
              "      <td>xxbos xxmaj this film sat on my xxmaj xxunk for weeks before i watched it . i dreaded a self - indulgent xxunk flick about relationships gone bad . i was wrong ; this was an xxunk xxunk into the screwed - up xxunk of xxmaj new xxmaj yorkers . \\n \\n  xxmaj the format is the same as xxmaj max xxmaj xxunk ' \" xxmaj la xxmaj ronde</td>\n",
              "      <td>positive</td>\n",
              "    </tr>\n",
              "    <tr>\n",
              "      <td>xxbos xxmaj many neglect that this is n't just a classic due to the fact that it 's the first xxup 3d game , or even the first xxunk - up . xxmaj it 's also one of the first stealth games , one of the xxunk definitely the first ) truly claustrophobic games , and just a pretty well - rounded gaming experience in general . xxmaj with graphics</td>\n",
              "      <td>positive</td>\n",
              "    </tr>\n",
              "  </tbody>\n",
              "</table>"
            ],
            "text/plain": [
              "<IPython.core.display.HTML object>"
            ]
          },
          "metadata": {
            "tags": []
          }
        }
      ]
    },
    {
      "cell_type": "code",
      "metadata": {
        "id": "YKpg6rlzVvok",
        "colab_type": "code",
        "outputId": "b5bb5289-52b4-4f11-edba-8ac7c31dcdcf",
        "colab": {
          "base_uri": "https://localhost:8080/",
          "height": 187
        }
      },
      "source": [
        "data.vocab.itos[:10]"
      ],
      "execution_count": 102,
      "outputs": [
        {
          "output_type": "execute_result",
          "data": {
            "text/plain": [
              "['xxunk',\n",
              " 'xxpad',\n",
              " 'xxbos',\n",
              " 'xxeos',\n",
              " 'xxfld',\n",
              " 'xxmaj',\n",
              " 'xxup',\n",
              " 'xxrep',\n",
              " 'xxwrep',\n",
              " 'the']"
            ]
          },
          "metadata": {
            "tags": []
          },
          "execution_count": 102
        }
      ]
    },
    {
      "cell_type": "code",
      "metadata": {
        "id": "O8vxe057ahsz",
        "colab_type": "code",
        "outputId": "c25c0368-1780-49d5-8fe4-442d998c784f",
        "colab": {
          "base_uri": "https://localhost:8080/",
          "height": 482
        }
      },
      "source": [
        "data.train_ds[0][0]"
      ],
      "execution_count": 103,
      "outputs": [
        {
          "output_type": "execute_result",
          "data": {
            "text/plain": [
              "Text xxbos xxmaj although recognized as the best film treatment of the difficulties of having a house in the country built ( or bought ) to your xxunk , it is not the first , nor the last . xxmaj in 1940 xxmaj jack xxmaj benny and xxmaj ann xxmaj xxunk were the leads in the film version of the comedy xxup george xxup washington xxup slept xxup here by xxmaj george xxup s. xxmaj kaufman and xxmaj moss xxmaj hart . xxmaj and about fifteen years ago xxmaj shelly xxmaj long and xxmaj tom xxmaj hanks had the lead in xxup the xxup money xxup pit . xxmaj the former was about moving into an xxunk xxmaj century country house that ... err , needs work . xxmaj the latter was about building your dream house - in the late 1980s . xxmaj although the two films have their moments , both are not as good as xxup blandings , which was based on an autobiographical novel of the same name . \n",
              " \n",
              "  xxmaj jim xxmaj blandings and his wife xxmaj muriel ( xxmaj cary xxmaj grant and xxmaj myrna xxmaj loy ) are noticing the tight xxunk of their apartment , which they share with their two daughters xxmaj joan and xxmaj betsy ( xxmaj xxunk xxmaj xxunk and xxmaj connie xxmaj marshall ) . xxmaj although xxmaj blandings has a good xxunk as an advertising executive ( in 1948 he is making $ xxunk a year , which was like making $ xxunk today ) , and lives in a luxury apartment - which in the xxmaj new xxmaj york xxmaj city of that day he xxunk ! - he feels they should seek something better . xxmaj he and xxmaj muriel take a drive into the country ( xxmaj connecticut ) and soon find an old ruin that both imagine can be xxunk up as that dream house they want . \n",
              " \n",
              "  xxmaj and they both fall into the financial xxunk hole that buying land and construction can lead to . xxmaj for one thing , they are so xxunk ho about the idea of building a home like this they fail to heed warning after warning by their wise , if cynical friend and lawyer xxmaj bill xxmaj cole ( xxmaj xxunk xxmaj douglas , in a nicely xxunk role ) . xxmaj for example , xxmaj jim buys land from a xxmaj connecticut dealer ( xxmaj ian xxmaj wolfe , sucking his chops quietly ) , with a check before double checking the correct cost for the land in that part of xxmaj connecticut . xxmaj bill points out he 's paid about five or six thousand dollars more for the land than it is worth . xxmaj there are problems about water supply that both xxmaj blandings just never think about , such as hard and soft water - which leads to the xxmaj zis - xxmaj zis xxmaj water xxunk machine . xxmaj they find that the designs they have in mind , and have worked out with their architect ( xxmaj xxunk xxmaj xxunk ) , ca n't be dropped cheaply at a xxunk of the moment decision by xxmaj muriel to build a little xxunk that nobody planned for . \n",
              " \n",
              "  xxmaj the xxunk costs of the project are one matter that xxunk xxmaj jim . xxmaj he has been appointed to handle the \" xxmaj wham \" account ( \" xxmaj spam \" had become a popular result of xxmaj world xxmaj war xxup ii , in that the public started using it as a meat substitute , in the light of it 's success with the armed forces ) . xxmaj jim ca n't get a grip on this ( he 's not alone - one or two other executives xxunk it before him ) . xxmaj he comes up with the following bit of \" poetry \" ( ? ) : \n",
              " \n",
              "  \" xxmaj this little xxunk went to market , \n",
              " \n",
              "  xxmaj he was pink and as pretty as ham . \n",
              " \n",
              "  xxmaj he xxunk in his tracks , \n",
              " \n",
              "  xxmaj as they gave him the ax - \n",
              " \n",
              "  xxmaj he knew he would end up as \" xxmaj wham \" ! \" \n",
              " \n",
              "  xxmaj his xxmaj secretary looks at him as though he needs a straight jacket when he reads that one ! \n",
              " \n",
              "  xxmaj jim also is increasingly suspicious of the attentions of xxmaj bill to xxmaj muriel , although ( in this case ) xxmaj bill is blameless . xxmaj but he 's always around ( xxmaj jim keeps forgetting that xxmaj bill is the xxunk one , and that he 's keeping xxmaj jim and xxmaj muriel from making so many mistakes ) . xxmaj all three have xxunk , the best being when they get locked in a room in the half constructed house , just as the men have left for the day . xxmaj they ca n't open the door , and xxmaj jim ( in a panic ) tries breaking the door down by a make - shift xxunk xxunk . xxmaj he breaks a window , and the door opens by itself . \n",
              " \n",
              "  xxmaj the film works quite xxunk , with all of the actors apparently enjoying themselves . xxmaj it is one film which ( despite changing price levels and salary levels ) really does not age at all . xxmaj after all , most xxmaj americans dream of xxunk their own home and always have . \n",
              " \n",
              "  a number of years ago a paint company made use of a delightful scene with xxmaj myrna xxmaj loy and xxmaj xxunk xxmaj parnell regarding the paint job xxmaj parnell 's company has to do on the various rooms . xxmaj she carefully shows the distinct shades of red , blue , etc . she wants - even giving a polite xxmaj parnell a single thread for the right shade of blue . xxmaj the commercials hinted that the paint company had a wide variety of colors to choose from for your paint job . xxmaj they proudly called xxmaj loy \" xxmaj mrs. xxmaj blandings \" in the commercials ' introduction . xxmaj you can imagine though how the no - nonsense xxmaj parnell xxunk the situation afterward , when xxmaj loy leaves him with his paint crew ."
            ]
          },
          "metadata": {
            "tags": []
          },
          "execution_count": 103
        }
      ]
    },
    {
      "cell_type": "code",
      "metadata": {
        "id": "akpcxbjraxY9",
        "colab_type": "code",
        "outputId": "7d2717bc-66fe-4f63-9aff-e33cc74474de",
        "colab": {
          "base_uri": "https://localhost:8080/",
          "height": 34
        }
      },
      "source": [
        "data.train_ds[0][0].data"
      ],
      "execution_count": 104,
      "outputs": [
        {
          "output_type": "execute_result",
          "data": {
            "text/plain": [
              "array([   2,    5,  281, 4702, ...,   40, 2013,  862,   11])"
            ]
          },
          "metadata": {
            "tags": []
          },
          "execution_count": 104
        }
      ]
    },
    {
      "cell_type": "code",
      "metadata": {
        "id": "HNpdDxbPbu1x",
        "colab_type": "code",
        "colab": {}
      },
      "source": [
        "data = (TextList.from_csv(path, 'texts.csv', cols='text')\n",
        "                .split_from_df(col=2)\n",
        "                .label_from_df(cols=0)\n",
        "                .databunch())"
      ],
      "execution_count": 0,
      "outputs": []
    },
    {
      "cell_type": "markdown",
      "metadata": {
        "id": "9vofBtSqeptX",
        "colab_type": "text"
      },
      "source": [
        ""
      ]
    },
    {
      "cell_type": "code",
      "metadata": {
        "id": "Tsy4b5EOekD-",
        "colab_type": "code",
        "outputId": "6369b4da-a7f3-429b-a0b2-e2c5a5fd38af",
        "colab": {
          "base_uri": "https://localhost:8080/",
          "height": 170
        }
      },
      "source": [
        "path = untar_data(URLs.IMDB)\n",
        "path.ls()"
      ],
      "execution_count": 106,
      "outputs": [
        {
          "output_type": "execute_result",
          "data": {
            "text/plain": [
              "[PosixPath('/root/.fastai/data/imdb/test'),\n",
              " PosixPath('/root/.fastai/data/imdb/tmp_clas'),\n",
              " PosixPath('/root/.fastai/data/imdb/train'),\n",
              " PosixPath('/root/.fastai/data/imdb/tmp_lm'),\n",
              " PosixPath('/root/.fastai/data/imdb/imdb.vocab'),\n",
              " PosixPath('/root/.fastai/data/imdb/models'),\n",
              " PosixPath('/root/.fastai/data/imdb/tmp_lm2'),\n",
              " PosixPath('/root/.fastai/data/imdb/unsup'),\n",
              " PosixPath('/root/.fastai/data/imdb/README')]"
            ]
          },
          "metadata": {
            "tags": []
          },
          "execution_count": 106
        }
      ]
    },
    {
      "cell_type": "code",
      "metadata": {
        "id": "IQ_-1m4Ieshs",
        "colab_type": "code",
        "outputId": "3cdc72ef-bc67-47da-fa0a-546ed67384e6",
        "colab": {
          "base_uri": "https://localhost:8080/",
          "height": 85
        }
      },
      "source": [
        "(path/'train').ls()"
      ],
      "execution_count": 107,
      "outputs": [
        {
          "output_type": "execute_result",
          "data": {
            "text/plain": [
              "[PosixPath('/root/.fastai/data/imdb/train/unsupBow.feat'),\n",
              " PosixPath('/root/.fastai/data/imdb/train/neg'),\n",
              " PosixPath('/root/.fastai/data/imdb/train/labeledBow.feat'),\n",
              " PosixPath('/root/.fastai/data/imdb/train/pos')]"
            ]
          },
          "metadata": {
            "tags": []
          },
          "execution_count": 107
        }
      ]
    },
    {
      "cell_type": "code",
      "metadata": {
        "id": "9aOT2lzzfNGS",
        "colab_type": "code",
        "colab": {}
      },
      "source": [
        "data_lm = (TextList.from_folder(path)\n",
        "           #Inputs: all the text files in path\n",
        "            .filter_by_folder(include=['train', 'test']) \n",
        "           #We may have other temp folders that contain text files so we only keep what's in train and test\n",
        "            .random_split_by_pct(0.1)\n",
        "           #We randomly split and keep 10% (10,000 reviews) for validation\n",
        "            .label_for_lm()           \n",
        "           #We want to do a language model so we label accordingly\n",
        "            .databunch())"
      ],
      "execution_count": 0,
      "outputs": []
    },
    {
      "cell_type": "code",
      "metadata": {
        "id": "ZGcJimpxpofM",
        "colab_type": "code",
        "colab": {}
      },
      "source": [
        "data_lm.save('tmp_lm2')"
      ],
      "execution_count": 0,
      "outputs": []
    },
    {
      "cell_type": "code",
      "metadata": {
        "id": "ZWt-9GhsrEaV",
        "colab_type": "code",
        "colab": {}
      },
      "source": [
        "data_lm = load_data(path, 'tmp_lm2')"
      ],
      "execution_count": 0,
      "outputs": []
    },
    {
      "cell_type": "code",
      "metadata": {
        "id": "Ml-Jc5QNrtaY",
        "colab_type": "code",
        "outputId": "a46e1aeb-6c1d-4331-8970-c1d09a46de45",
        "colab": {
          "base_uri": "https://localhost:8080/",
          "height": 289
        }
      },
      "source": [
        "data_lm.show_batch()"
      ],
      "execution_count": 111,
      "outputs": [
        {
          "output_type": "display_data",
          "data": {
            "text/html": [
              "<table border=\"1\" class=\"dataframe\">\n",
              "  <thead>\n",
              "    <tr style=\"text-align: right;\">\n",
              "      <th>idx</th>\n",
              "      <th>text</th>\n",
              "    </tr>\n",
              "  </thead>\n",
              "  <tbody>\n",
              "    <tr>\n",
              "      <td>0</td>\n",
              "      <td>i disliked , however , was all of the plot complications . xxmaj those could have been okay , if the scriptwriters had taken the time to explain all of them through . xxmaj but what was the purpose of the secret society in the mental institution , specifically ? xxmaj why were they protected from xxmaj michael 's damage until a certain point ? xxmaj what exactly were they</td>\n",
              "    </tr>\n",
              "    <tr>\n",
              "      <td>1</td>\n",
              "      <td>that * - given all the shots of xxmaj tiger beer interspersed throughout this most forgettable washout of a movie ? \\n \\n  xxmaj meanwhile , dialogue spurts between individuals with occasional stabs at depth , but all too usually nothing of any particular advancement to the movie 's overall story is said or witnessed . xxmaj it 's as if one could switch off at any moment and</td>\n",
              "    </tr>\n",
              "    <tr>\n",
              "      <td>2</td>\n",
              "      <td>there are over - the - shoulder shots unquestionably belonging to someone else . xxmaj there 's also a really bad photo of him in a cameo locket ( it looks like a bad photocopy ) , and a decent picture of him in a family bible . xxmaj he conjured up xxmaj jack - o originally , or something like that . \\n \\n  xxmaj cameron xxmaj mitchell</td>\n",
              "    </tr>\n",
              "    <tr>\n",
              "      <td>3</td>\n",
              "      <td>xxbos i had never heard of xxmaj dead xxmaj man 's xxmaj bounty when i saw it at the xxup dvd store a few weeks ago , and i thought i had stumbled upon an unrecognized gem , since it had xxmaj val xxmaj kilmer in it in a truly unique role . xxmaj sadly , it was n't more than ten or fifteen minutes into the movie that i</td>\n",
              "    </tr>\n",
              "    <tr>\n",
              "      <td>4</td>\n",
              "      <td>chips for breakfast . \\n \\n  xxmaj the problem with this movie , is that it tries to be a movie like \" xxmaj evil xxmaj dead xxunk not under any circumstances associate these 2 movies ) in that it 's so bad it 's funny . xxmaj but it also tries to be funny at the same time , and fails so overwhelmingly to do so , that</td>\n",
              "    </tr>\n",
              "  </tbody>\n",
              "</table>"
            ],
            "text/plain": [
              "<IPython.core.display.HTML object>"
            ]
          },
          "metadata": {
            "tags": []
          }
        }
      ]
    },
    {
      "cell_type": "code",
      "metadata": {
        "id": "ZvfJybGUsiAM",
        "colab_type": "code",
        "colab": {}
      },
      "source": [
        "learn = language_model_learner(data_lm, arch=AWD_LSTM, drop_mult=0.3)"
      ],
      "execution_count": 0,
      "outputs": []
    },
    {
      "cell_type": "code",
      "metadata": {
        "id": "Xq1JpQDVtJkp",
        "colab_type": "code",
        "outputId": "e7855907-6baf-4471-a14e-3666d3cf45f7",
        "colab": {
          "base_uri": "https://localhost:8080/",
          "height": 95
        }
      },
      "source": [
        "learn.lr_find()"
      ],
      "execution_count": 113,
      "outputs": [
        {
          "output_type": "display_data",
          "data": {
            "text/html": [
              ""
            ],
            "text/plain": [
              "<IPython.core.display.HTML object>"
            ]
          },
          "metadata": {
            "tags": []
          }
        },
        {
          "output_type": "stream",
          "text": [
            "LR Finder is complete, type {learner_name}.recorder.plot() to see the graph.\n"
          ],
          "name": "stdout"
        }
      ]
    },
    {
      "cell_type": "code",
      "metadata": {
        "id": "5SGgigfFwVNH",
        "colab_type": "code",
        "outputId": "5c0a303a-9d62-4498-9542-3c240cc15645",
        "colab": {
          "base_uri": "https://localhost:8080/",
          "height": 283
        }
      },
      "source": [
        "learn.recorder.plot(skip_end=15)"
      ],
      "execution_count": 114,
      "outputs": [
        {
          "output_type": "display_data",
          "data": {
            "image/png": "[encoded data removed]",
            "text/plain": [
              "<Figure size 432x288 with 1 Axes>"
            ]
          },
          "metadata": {
            "tags": []
          }
        }
      ]
    },
    {
      "cell_type": "code",
      "metadata": {
        "id": "3heeXrSzwvM-",
        "colab_type": "code",
        "outputId": "676459dc-515f-42d6-ea00-d1b890afd9ee",
        "colab": {
          "base_uri": "https://localhost:8080/",
          "height": 95
        }
      },
      "source": [
        "learn.fit_one_cycle(1, 1e-2, moms=(0.8,0.7))"
      ],
      "execution_count": 115,
      "outputs": [
        {
          "output_type": "display_data",
          "data": {
            "text/html": [
              "<table border=\"1\" class=\"dataframe\">\n",
              "  <thead>\n",
              "    <tr style=\"text-align: left;\">\n",
              "      <th>epoch</th>\n",
              "      <th>train_loss</th>\n",
              "      <th>valid_loss</th>\n",
              "      <th>accuracy</th>\n",
              "      <th>time</th>\n",
              "    </tr>\n",
              "  </thead>\n",
              "  <tbody>\n",
              "    <tr>\n",
              "      <td>0</td>\n",
              "      <td>4.158764</td>\n",
              "      <td>4.010780</td>\n",
              "      <td>0.293523</td>\n",
              "      <td>20:01</td>\n",
              "    </tr>\n",
              "  </tbody>\n",
              "</table>"
            ],
            "text/plain": [
              "<IPython.core.display.HTML object>"
            ]
          },
          "metadata": {
            "tags": []
          }
        }
      ]
    },
    {
      "cell_type": "code",
      "metadata": {
        "id": "E-jcCn0UyoxJ",
        "colab_type": "code",
        "outputId": "285840cd-4756-4a97-de4d-b8b72909207d",
        "colab": {
          "base_uri": "https://localhost:8080/",
          "height": 374
        }
      },
      "source": [
        "learn.unfreeze()\n",
        "learn.fit_one_cycle(10, 1e-3, moms=(0.8,0.7))"
      ],
      "execution_count": 0,
      "outputs": [
        {
          "output_type": "display_data",
          "data": {
            "text/html": [
              "\n",
              "    <div>\n",
              "        <style>\n",
              "            /* Turns off some styling */\n",
              "            progress {\n",
              "                /* gets rid of default border in Firefox and Opera. */\n",
              "                border: none;\n",
              "                /* Needs to be in here for Safari polyfill so background images work as expected. */\n",
              "                background-size: auto;\n",
              "            }\n",
              "            .progress-bar-interrupted, .progress-bar-interrupted::-webkit-progress-bar {\n",
              "                background: #F44336;\n",
              "            }\n",
              "        </style>\n",
              "      <progress value='9' class='' max='10', style='width:300px; height:20px; vertical-align: middle;'></progress>\n",
              "      90.00% [9/10 3:24:58<22:46]\n",
              "    </div>\n",
              "    \n",
              "<table border=\"1\" class=\"dataframe\">\n",
              "  <thead>\n",
              "    <tr style=\"text-align: left;\">\n",
              "      <th>epoch</th>\n",
              "      <th>train_loss</th>\n",
              "      <th>valid_loss</th>\n",
              "      <th>accuracy</th>\n",
              "      <th>time</th>\n",
              "    </tr>\n",
              "  </thead>\n",
              "  <tbody>\n",
              "    <tr>\n",
              "      <td>0</td>\n",
              "      <td>3.927028</td>\n",
              "      <td>3.896476</td>\n",
              "      <td>0.305291</td>\n",
              "      <td>22:43</td>\n",
              "    </tr>\n",
              "    <tr>\n",
              "      <td>1</td>\n",
              "      <td>3.847344</td>\n",
              "      <td>3.822090</td>\n",
              "      <td>0.313999</td>\n",
              "      <td>22:45</td>\n",
              "    </tr>\n",
              "    <tr>\n",
              "      <td>2</td>\n",
              "      <td>3.799788</td>\n",
              "      <td>3.774436</td>\n",
              "      <td>0.319785</td>\n",
              "      <td>22:47</td>\n",
              "    </tr>\n",
              "    <tr>\n",
              "      <td>3</td>\n",
              "      <td>3.703905</td>\n",
              "      <td>3.737589</td>\n",
              "      <td>0.324518</td>\n",
              "      <td>22:48</td>\n",
              "    </tr>\n",
              "    <tr>\n",
              "      <td>4</td>\n",
              "      <td>3.641535</td>\n",
              "      <td>3.713309</td>\n",
              "      <td>0.327128</td>\n",
              "      <td>22:45</td>\n",
              "    </tr>\n",
              "    <tr>\n",
              "      <td>5</td>\n",
              "      <td>3.559839</td>\n",
              "      <td>3.698512</td>\n",
              "      <td>0.329036</td>\n",
              "      <td>22:47</td>\n",
              "    </tr>\n",
              "    <tr>\n",
              "      <td>6</td>\n",
              "      <td>3.519900</td>\n",
              "      <td>3.687977</td>\n",
              "      <td>0.330626</td>\n",
              "      <td>22:46</td>\n",
              "    </tr>\n",
              "    <tr>\n",
              "      <td>7</td>\n",
              "      <td>3.424154</td>\n",
              "      <td>3.684029</td>\n",
              "      <td>0.331358</td>\n",
              "      <td>22:47</td>\n",
              "    </tr>\n",
              "    <tr>\n",
              "      <td>8</td>\n",
              "      <td>3.380814</td>\n",
              "      <td>3.684306</td>\n",
              "      <td>0.331641</td>\n",
              "      <td>22:46</td>\n",
              "    </tr>\n",
              "  </tbody>\n",
              "</table><p>\n",
              "\n",
              "    <div>\n",
              "        <style>\n",
              "            /* Turns off some styling */\n",
              "            progress {\n",
              "                /* gets rid of default border in Firefox and Opera. */\n",
              "                border: none;\n",
              "                /* Needs to be in here for Safari polyfill so background images work as expected. */\n",
              "                background-size: auto;\n",
              "            }\n",
              "            .progress-bar-interrupted, .progress-bar-interrupted::-webkit-progress-bar {\n",
              "                background: #F44336;\n",
              "            }\n",
              "        </style>\n",
              "      <progress value='796' class='' max='3003', style='width:300px; height:20px; vertical-align: middle;'></progress>\n",
              "      26.51% [796/3003 05:47<16:02 3.3718]\n",
              "    </div>\n",
              "    "
            ],
            "text/plain": [
              "<IPython.core.display.HTML object>"
            ]
          },
          "metadata": {
            "tags": []
          }
        }
      ]
    },
    {
      "cell_type": "code",
      "metadata": {
        "id": "t5NKd5p03iMl",
        "colab_type": "code",
        "colab": {}
      },
      "source": [
        ""
      ],
      "execution_count": 0,
      "outputs": []
    }
  ]
}